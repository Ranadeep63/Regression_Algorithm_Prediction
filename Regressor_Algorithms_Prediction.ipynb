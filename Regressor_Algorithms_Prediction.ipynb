{
 "cells": [
  {
   "cell_type": "markdown",
   "id": "289dee6a-b915-4817-befe-334637524a5f",
   "metadata": {},
   "source": [
    "# Regressor Algorothms Predictions"
   ]
  },
  {
   "cell_type": "markdown",
   "id": "760329a9-16dd-460a-83a5-6e2c1d3595c9",
   "metadata": {},
   "source": [
    "By comparing multiple models, we aim to select the most effective algorithm that offers the optimal balance of accuracy, complexity, and performance for their specific problem. Below is the process we can follow for the task of comparing multiple Machine Learning models:\n",
    "\n",
    "**1) Address missing values, remove duplicates, and correct errors in the dataset to ensure the quality of data fed into the models.**\n",
    "\n",
    "**2) Divide the dataset into training and testing sets, typically using a 70-30% or 80-20% split.**\n",
    "\n",
    "**3) Select a diverse set of models for comparison. It can include simple linear models, tree-based models, ensemble methods, and more advanced algorithms, depending on the problem’s complexity and data characteristics.**\n",
    "\n",
    "**4) Fit each selected model to the training data. It involves adjusting the model to learn from the features and the target variable in the training set.**\n",
    "\n",
    "**5) Use a set of metrics to evaluate each model’s performance on the test set.**\n",
    "\n",
    "**6) Compare the models based on the evaluation metrics, considering both their performance and computational efficiency.**"
   ]
  },
  {
   "cell_type": "markdown",
   "id": "03fc78ad-e124-4fbb-80bf-448d2ac2acd5",
   "metadata": {},
   "source": [
    "## Importing Necessary Libraries"
   ]
  },
  {
   "cell_type": "code",
   "execution_count": 2,
   "id": "6e6abd9e-0117-407f-a9cc-1552cabf36ef",
   "metadata": {},
   "outputs": [],
   "source": [
    "import numpy as np\n",
    "import pandas as pd\n",
    "from sklearn.model_selection import train_test_split\n",
    "from sklearn.preprocessing import StandardScaler\n",
    "import datetime\n",
    "from sklearn.linear_model import LinearRegression\n",
    "from sklearn.tree import DecisionTreeRegressor\n",
    "from sklearn.ensemble import RandomForestRegressor, GradientBoostingRegressor\n",
    "from sklearn.metrics import mean_absolute_error, r2_score\n"
   ]
  },
  {
   "cell_type": "markdown",
   "id": "bfe5f71f-c8f4-4518-bbcc-3d1efeb506ec",
   "metadata": {},
   "source": [
    "## Data Collection"
   ]
  },
  {
   "cell_type": "code",
   "execution_count": 4,
   "id": "57711859-5119-41c8-83fb-a4e480f2ba49",
   "metadata": {},
   "outputs": [],
   "source": [
    "data = pd.read_csv(r\"D:\\Real_Estate.csv\")"
   ]
  },
  {
   "cell_type": "code",
   "execution_count": 5,
   "id": "89051618-8e46-42f6-8a52-4c62ce357a3e",
   "metadata": {},
   "outputs": [
    {
     "name": "stdout",
     "output_type": "stream",
     "text": [
      "<bound method DataFrame.info of                Transaction date  House age  \\\n",
      "0    2012-09-02 16:42:30.519336       13.3   \n",
      "1    2012-09-04 22:52:29.919544       35.5   \n",
      "2    2012-09-05 01:10:52.349449        1.1   \n",
      "3    2012-09-05 13:26:01.189083       22.2   \n",
      "4    2012-09-06 08:29:47.910523        8.5   \n",
      "..                          ...        ...   \n",
      "409  2013-07-25 15:30:36.565239       18.3   \n",
      "410  2013-07-26 17:16:34.019780       11.9   \n",
      "411  2013-07-28 21:47:23.339050        0.0   \n",
      "412  2013-07-29 13:33:29.405317       35.9   \n",
      "413  2013-08-01 09:49:41.506402       12.0   \n",
      "\n",
      "     Distance to the nearest MRT station  Number of convenience stores  \\\n",
      "0                             4082.01500                             8   \n",
      "1                              274.01440                             2   \n",
      "2                             1978.67100                            10   \n",
      "3                             1055.06700                             5   \n",
      "4                              967.40000                             6   \n",
      "..                                   ...                           ...   \n",
      "409                            170.12890                             6   \n",
      "410                            323.69120                             2   \n",
      "411                            451.64190                             8   \n",
      "412                            292.99780                             5   \n",
      "413                             90.45606                             6   \n",
      "\n",
      "      Latitude   Longitude  House price of unit area  \n",
      "0    25.007059  121.561694                  6.488673  \n",
      "1    25.012148  121.546990                 24.970725  \n",
      "2    25.003850  121.528336                 26.694267  \n",
      "3    24.962887  121.482178                 38.091638  \n",
      "4    25.011037  121.479946                 21.654710  \n",
      "..         ...         ...                       ...  \n",
      "409  24.981186  121.486798                 29.096310  \n",
      "410  24.950070  121.483918                 33.871347  \n",
      "411  24.963901  121.543387                 25.255105  \n",
      "412  24.997863  121.558286                 25.285620  \n",
      "413  24.952904  121.526395                 37.580554  \n",
      "\n",
      "[414 rows x 7 columns]>\n"
     ]
    }
   ],
   "source": [
    "print(data.info)"
   ]
  },
  {
   "cell_type": "code",
   "execution_count": 6,
   "id": "07a3f778-ccf4-40b6-9f01-598814088a8e",
   "metadata": {},
   "outputs": [
    {
     "name": "stdout",
     "output_type": "stream",
     "text": [
      "             Transaction date  House age  Distance to the nearest MRT station  \\\n",
      "0  2012-09-02 16:42:30.519336       13.3                            4082.0150   \n",
      "1  2012-09-04 22:52:29.919544       35.5                             274.0144   \n",
      "2  2012-09-05 01:10:52.349449        1.1                            1978.6710   \n",
      "3  2012-09-05 13:26:01.189083       22.2                            1055.0670   \n",
      "4  2012-09-06 08:29:47.910523        8.5                             967.4000   \n",
      "\n",
      "   Number of convenience stores   Latitude   Longitude  \\\n",
      "0                             8  25.007059  121.561694   \n",
      "1                             2  25.012148  121.546990   \n",
      "2                            10  25.003850  121.528336   \n",
      "3                             5  24.962887  121.482178   \n",
      "4                             6  25.011037  121.479946   \n",
      "\n",
      "   House price of unit area  \n",
      "0                  6.488673  \n",
      "1                 24.970725  \n",
      "2                 26.694267  \n",
      "3                 38.091638  \n",
      "4                 21.654710  \n"
     ]
    }
   ],
   "source": [
    "print(data.head())"
   ]
  },
  {
   "cell_type": "markdown",
   "id": "d726fa2c-fac0-45a8-aa8a-1ff859d655d5",
   "metadata": {},
   "source": [
    "**The dataset consists of 414 entries and 7 columns, with no missing values. Here’s a brief overview of the columns:**\n",
    "\n",
    "**Transaction date:** The date of the house sale (object type, which suggests it might need conversion or extraction of useful features like year, month, etc.).\n",
    "\n",
    "**House age:** The age of the house in years (float).\n",
    "\n",
    "**Distance to the nearest MRT station:** The distance to the nearest mass rapid transit station in meters (float).\n",
    "\n",
    "**Number of convenience stores:** The number of convenience stores in the living circle on foot (integer).\n",
    "\n",
    "**Latitude:** The geographic coordinate that specifies the north-south position (float).\n",
    "\n",
    "**Longitude:** The geographic coordinate that specifies the east-west position (float).\n",
    "\n",
    "**House price of unit area:** Price of the house per unit area (float), which is likely our target variable for prediction."
   ]
  },
  {
   "cell_type": "markdown",
   "id": "a4a322d5-3221-403a-ad6d-6a9f7a76f5f2",
   "metadata": {},
   "source": [
    "## Data Preprocessing\n",
    "\n",
    "**start with the preprocessing steps. Below are the steps we will follow to preprocess our data:**\n",
    "\n",
    "**1) Since the transaction date is in a string format, we will convert it into a datetime object. We can then extract features such as the transaction year and month, which might be useful for the model.**\n",
    "\n",
    "**2) We’ll scale the continuous features to ensure they’re on a similar scale. It is particularly important for models like Support Vector Machines or K-nearest neighbours, which are sensitive to the scale of input features.**\n",
    "\n",
    "**3) We’ll split the dataset into a training set and a testing set. A common practice is to use 80% of the data for training and 20% for testing.**"
   ]
  },
  {
   "cell_type": "markdown",
   "id": "cdcb17c1-1bc1-4797-9b1f-136e4c460be1",
   "metadata": {},
   "source": [
    "### convert \"Transaction date\" to datetime and extract year and month"
   ]
  },
  {
   "cell_type": "code",
   "execution_count": 7,
   "id": "3bfeb034-ee28-4dad-ac1d-35e1d62e8719",
   "metadata": {},
   "outputs": [],
   "source": [
    "data['Transaction date'] = pd.to_datetime(data['Transaction date'])\n",
    "data['Transaction year'] = data['Transaction date'].dt.year\n",
    "data['Transaction month'] = data['Transaction date'].dt.month"
   ]
  },
  {
   "cell_type": "markdown",
   "id": "62ea929c-a858-4fe5-9b01-b2f9da39bbfe",
   "metadata": {},
   "source": [
    "### drop the original \"Transaction date\" as we've extracted relevant features"
   ]
  },
  {
   "cell_type": "code",
   "execution_count": 8,
   "id": "73e327f8-be8b-4552-9033-7c18afabf8f6",
   "metadata": {},
   "outputs": [],
   "source": [
    "data = data.drop(columns=['Transaction date'])"
   ]
  },
  {
   "cell_type": "markdown",
   "id": "85cc2c15-098a-4633-b143-1d3e973b34a0",
   "metadata": {},
   "source": [
    "### define features and target variable"
   ]
  },
  {
   "cell_type": "code",
   "execution_count": 10,
   "id": "6d5ecc29-b030-4e59-97b7-c3d269615ec6",
   "metadata": {},
   "outputs": [
    {
     "name": "stdout",
     "output_type": "stream",
     "text": [
      "X Labels:\n",
      "      House age  Distance to the nearest MRT station  \\\n",
      "0         13.3                           4082.01500   \n",
      "1         35.5                            274.01440   \n",
      "2          1.1                           1978.67100   \n",
      "3         22.2                           1055.06700   \n",
      "4          8.5                            967.40000   \n",
      "..         ...                                  ...   \n",
      "409       18.3                            170.12890   \n",
      "410       11.9                            323.69120   \n",
      "411        0.0                            451.64190   \n",
      "412       35.9                            292.99780   \n",
      "413       12.0                             90.45606   \n",
      "\n",
      "     Number of convenience stores   Latitude   Longitude  Transaction year  \\\n",
      "0                               8  25.007059  121.561694              2012   \n",
      "1                               2  25.012148  121.546990              2012   \n",
      "2                              10  25.003850  121.528336              2012   \n",
      "3                               5  24.962887  121.482178              2012   \n",
      "4                               6  25.011037  121.479946              2012   \n",
      "..                            ...        ...         ...               ...   \n",
      "409                             6  24.981186  121.486798              2013   \n",
      "410                             2  24.950070  121.483918              2013   \n",
      "411                             8  24.963901  121.543387              2013   \n",
      "412                             5  24.997863  121.558286              2013   \n",
      "413                             6  24.952904  121.526395              2013   \n",
      "\n",
      "     Transaction month  \n",
      "0                    9  \n",
      "1                    9  \n",
      "2                    9  \n",
      "3                    9  \n",
      "4                    9  \n",
      "..                 ...  \n",
      "409                  7  \n",
      "410                  7  \n",
      "411                  7  \n",
      "412                  7  \n",
      "413                  8  \n",
      "\n",
      "[414 rows x 7 columns]\n",
      "\n",
      " y Labels: \n",
      "0       6.488673\n",
      "1      24.970725\n",
      "2      26.694267\n",
      "3      38.091638\n",
      "4      21.654710\n",
      "         ...    \n",
      "409    29.096310\n",
      "410    33.871347\n",
      "411    25.255105\n",
      "412    25.285620\n",
      "413    37.580554\n",
      "Name: House price of unit area, Length: 414, dtype: float64\n"
     ]
    }
   ],
   "source": [
    "X = data.drop('House price of unit area', axis=1)\n",
    "y = data['House price of unit area']\n",
    "\n",
    "print(\"X Labels:\\n {}\\n\\n y Labels: \\n{}\".format(X,y)) "
   ]
  },
  {
   "cell_type": "markdown",
   "id": "94350c9b-0a4c-4103-942d-c169acb7a9d3",
   "metadata": {},
   "source": [
    "### split the data into training and testing sets"
   ]
  },
  {
   "cell_type": "code",
   "execution_count": 13,
   "id": "cdcd5c1a-f4bd-4501-a1ca-9f5ee20f5bfb",
   "metadata": {},
   "outputs": [
    {
     "name": "stdout",
     "output_type": "stream",
     "text": [
      "X_train :\n",
      "     House age  Distance to the nearest MRT station  \\\n",
      "192       13.3                           2147.37600   \n",
      "234       19.2                             90.45606   \n",
      "5         13.3                            279.17260   \n",
      "45         8.0                            405.21340   \n",
      "245       37.1                           1559.82700   \n",
      "..         ...                                  ...   \n",
      "71        12.0                           2408.99300   \n",
      "106        4.5                            579.20830   \n",
      "270       30.4                            444.13340   \n",
      "348       20.0                            552.43710   \n",
      "102       34.9                           2185.12800   \n",
      "\n",
      "     Number of convenience stores   Latitude   Longitude  Transaction year  \\\n",
      "192                             3  24.933732  121.564450              2013   \n",
      "234                             5  24.986418  121.478117              2013   \n",
      "5                               2  24.994994  121.543823              2012   \n",
      "45                              4  24.993687  121.529953              2012   \n",
      "245                             4  24.957858  121.564699              2013   \n",
      "..                            ...        ...         ...               ...   \n",
      "71                              9  24.932844  121.551066              2012   \n",
      "106                             7  25.014003  121.519101              2012   \n",
      "270                             0  24.950815  121.544501              2013   \n",
      "348                             1  24.958066  121.477361              2013   \n",
      "102                             6  25.008886  121.485673              2012   \n",
      "\n",
      "     Transaction month  \n",
      "192                  1  \n",
      "234                  3  \n",
      "5                    9  \n",
      "45                  10  \n",
      "245                  3  \n",
      "..                 ...  \n",
      "71                  10  \n",
      "106                 11  \n",
      "270                  4  \n",
      "348                  6  \n",
      "102                 11  \n",
      "\n",
      "[331 rows x 7 columns] \n",
      "\n",
      " X_test: \n",
      "      House age  Distance to the nearest MRT station  \\\n",
      "358       15.2                             431.1114   \n",
      "350       18.0                            1360.1390   \n",
      "373        5.6                             250.6310   \n",
      "399       35.9                             208.3905   \n",
      "369       30.7                            1414.8370   \n",
      "..         ...                                  ...   \n",
      "31        38.5                            1828.3190   \n",
      "283       20.4                             815.9314   \n",
      "157       31.0                            3171.3290   \n",
      "203       37.7                            4197.3490   \n",
      "208        7.1                             250.6310   \n",
      "\n",
      "     Number of convenience stores   Latitude   Longitude  Transaction year  \\\n",
      "358                             7  24.988810  121.562201              2013   \n",
      "350                             8  24.953801  121.565321              2013   \n",
      "373                             1  25.008034  121.556559              2013   \n",
      "399                             9  25.010412  121.565027              2013   \n",
      "369                             2  25.000031  121.529006              2013   \n",
      "..                            ...        ...         ...               ...   \n",
      "31                              4  24.997065  121.512329              2012   \n",
      "283                             0  24.980314  121.476566              2013   \n",
      "157                             9  25.012370  121.545902              2013   \n",
      "203                             7  25.004411  121.561228              2013   \n",
      "208                             6  24.973905  121.543571              2013   \n",
      "\n",
      "     Transaction month  \n",
      "358                  6  \n",
      "350                  6  \n",
      "373                  6  \n",
      "399                  7  \n",
      "369                  6  \n",
      "..                 ...  \n",
      "31                   9  \n",
      "283                  4  \n",
      "157                  1  \n",
      "203                  2  \n",
      "208                  2  \n",
      "\n",
      "[83 rows x 7 columns] \n",
      "\n",
      " y_train: \n",
      " 192     0.365176\n",
      "234    26.484981\n",
      "5      36.972376\n",
      "45     34.218656\n",
      "245    16.344675\n",
      "         ...    \n",
      "71     25.696463\n",
      "106    42.829193\n",
      "270    11.277817\n",
      "348    29.726401\n",
      "102    30.850929\n",
      "Name: House price of unit area, Length: 331, dtype: float64 \n",
      "\n",
      " y_testn: \n",
      "358    35.762667\n",
      "350    31.743662\n",
      "373    27.786894\n",
      "399    54.831664\n",
      "369    39.416482\n",
      "         ...    \n",
      "31     15.564324\n",
      "283    15.593247\n",
      "157     3.398305\n",
      "203     0.000000\n",
      "208    28.601946\n",
      "Name: House price of unit area, Length: 83, dtype: float64\n"
     ]
    }
   ],
   "source": [
    "X_train, X_test, y_train, y_test = train_test_split(X, y, test_size=0.2, random_state=42)\n",
    "\n",
    "print(\"X_train :\\n{} \\n\\n X_test: \\n {} \\n\\n y_train: \\n {} \\n\\n y_test: \\n{}\".format(X_train,X_test,y_train,y_test))"
   ]
  },
  {
   "cell_type": "markdown",
   "id": "5c3e7538-08d6-451c-bae1-53aa83cb0902",
   "metadata": {},
   "source": [
    "### scale the features"
   ]
  },
  {
   "cell_type": "code",
   "execution_count": 14,
   "id": "31081dfc-10b3-4d35-b662-a2de0a7d8c3f",
   "metadata": {},
   "outputs": [
    {
     "data": {
      "text/plain": [
       "(331, 7)"
      ]
     },
     "execution_count": 14,
     "metadata": {},
     "output_type": "execute_result"
    }
   ],
   "source": [
    "scaler = StandardScaler()\n",
    "X_train_scaled = scaler.fit_transform(X_train)\n",
    "X_test_scaled = scaler.transform(X_test)\n",
    "\n",
    "X_train_scaled.shape"
   ]
  },
  {
   "cell_type": "code",
   "execution_count": 15,
   "id": "bd76a524-15c3-4a93-9045-343dafaf87f2",
   "metadata": {},
   "outputs": [
    {
     "data": {
      "text/plain": [
       "(83, 7)"
      ]
     },
     "execution_count": 15,
     "metadata": {},
     "output_type": "execute_result"
    }
   ],
   "source": [
    "X_test_scaled.shape"
   ]
  },
  {
   "cell_type": "markdown",
   "id": "e9a7d7f4-2e83-4716-8df2-79185398ab3b",
   "metadata": {},
   "source": [
    "## Model Training, Prediction and Comparison"
   ]
  },
  {
   "cell_type": "markdown",
   "id": "ca58019f-9771-487b-9fc0-eb15ca6ec9c1",
   "metadata": {},
   "source": [
    "### initialize the models"
   ]
  },
  {
   "cell_type": "code",
   "execution_count": 16,
   "id": "b9496aa4-bd41-4cdc-9d82-3a60db27be9d",
   "metadata": {},
   "outputs": [],
   "source": [
    "models = {\n",
    "    \"Linear Regression\": LinearRegression(),\n",
    "    \"Decision Tree\": DecisionTreeRegressor(random_state=42),\n",
    "    \"Random Forest\": RandomForestRegressor(random_state=42),\n",
    "    \"Gradient Boosting\": GradientBoostingRegressor(random_state=42)\n",
    "}"
   ]
  },
  {
   "cell_type": "code",
   "execution_count": 17,
   "id": "c4254b25-055a-4923-b652-48cf1b8f6894",
   "metadata": {},
   "outputs": [
    {
     "name": "stdout",
     "output_type": "stream",
     "text": [
      "                         MAE        R²\n",
      "Linear Regression   9.748246  0.529615\n",
      "Decision Tree      11.760342  0.204962\n",
      "Random Forest       9.887601  0.509547\n",
      "Gradient Boosting  10.000117  0.476071\n"
     ]
    }
   ],
   "source": [
    "# dictionary to hold the evaluation metrics for each model\n",
    "results = {}\n",
    "\n",
    "# train and evaluate each model\n",
    "for name, model in models.items():\n",
    "    # training the model\n",
    "    model.fit(X_train_scaled, y_train)\n",
    "\n",
    "    # making predictions on the test set\n",
    "    predictions = model.predict(X_test_scaled)\n",
    "\n",
    "    # calculating evaluation metrics\n",
    "    mae = mean_absolute_error(y_test, predictions)\n",
    "    r2 = r2_score(y_test, predictions)\n",
    "\n",
    "    # storing the metrics\n",
    "    results[name] = {\"MAE\": mae, \"R²\": r2}\n",
    "\n",
    "results_df = pd.DataFrame(results).T  # convert the results to a DataFrame for better readability\n",
    "print(results_df)"
   ]
  },
  {
   "cell_type": "markdown",
   "id": "1751fa3f-1829-4072-a249-235bc88a02aa",
   "metadata": {},
   "source": [
    "## Conclussion\n",
    "\n",
    "**The performance of each model on the test set, measured by Mean Absolute Error (MAE) and R-squared (R²), is as follows:**\n",
    "\n",
    "Linear Regression has the **lowest MAE (9.75)** and the **highest R² (0.53)**, making it the best-performing model among those evaluated. It suggests that, despite its simplicity, **Linear Regression is quite effective for this dataset**.\n",
    "\n",
    "**Decision Tree Regressor shows the highest MAE (11.76) and the lowest R² (0.20)**, indicating it may be **overfitting to the training data and performing poorly on the test data**. \n",
    "\n",
    "**Random Forest Regressor and Gradient Boosting Regressor have similar MAEs (9.89 and 10.00, respectively)** and **R² scores (0.51 and 0.48, respectively)**, performing slightly worse than the Linear Regression model but better than the Decision Tree.\n",
    "\n"
   ]
  }
 ],
 "metadata": {
  "kernelspec": {
   "display_name": "Python 3 (ipykernel)",
   "language": "python",
   "name": "python3"
  },
  "language_info": {
   "codemirror_mode": {
    "name": "ipython",
    "version": 3
   },
   "file_extension": ".py",
   "mimetype": "text/x-python",
   "name": "python",
   "nbconvert_exporter": "python",
   "pygments_lexer": "ipython3",
   "version": "3.13.0"
  }
 },
 "nbformat": 4,
 "nbformat_minor": 5
}
